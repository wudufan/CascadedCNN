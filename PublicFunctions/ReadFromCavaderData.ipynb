{
 "cells": [
  {
   "cell_type": "code",
   "execution_count": 9,
   "metadata": {
    "collapsed": false
   },
   "outputs": [],
   "source": [
    "import os\n",
    "import dicom\n",
    "import numpy as np\n",
    "import re\n",
    "import glob"
   ]
  },
  {
   "cell_type": "code",
   "execution_count": 11,
   "metadata": {
    "collapsed": false
   },
   "outputs": [],
   "source": [
    "# Read from low dose chanllege data\n",
    "# index - the index for the datasets to read, from 0 to 9\n",
    "# readFullDose - True to read full dose, False to read quater dose\n",
    "# slices - a list of slices to be read, None to read all\n",
    "# basePath - the path of the low dose challenge dataset\n",
    "def ReadFromLowdoseChallengeData(index, readFullDose, slices=None, \n",
    "                                basePath='/home/data0/dufan/CT_images/'):\n",
    "    if readFullDose is True:\n",
    "        basePath = os.path.join(basePath, 'full_dose_image')\n",
    "    else:\n",
    "        basePath = os.path.join(basePath, 'quater_dose_image')\n",
    "    \n",
    "    # locate folder\n",
    "    imgDirs = os.listdir(basePath)\n",
    "    basePath = os.path.join(basePath, imgDirs[index])\n",
    "    \n",
    "    # read images\n",
    "    imgs = list()\n",
    "    fileNames = glob.glob(os.path.join(basePath, '*.IMA'))\n",
    "    if slices is None:\n",
    "        slices = range(0,len(fileNames))\n",
    "    for i in slices:\n",
    "        curImg = dicom.read_file(fileNames[i]).pixel_array.astype(np.float32)\n",
    "        imgs.append(curImg)\n",
    "    \n",
    "    return imgs\n",
    "    "
   ]
  },
  {
   "cell_type": "code",
   "execution_count": null,
   "metadata": {
    "collapsed": false
   },
   "outputs": [],
   "source": []
  },
  {
   "cell_type": "code",
   "execution_count": null,
   "metadata": {
    "collapsed": true
   },
   "outputs": [],
   "source": []
  }
 ],
 "metadata": {
  "kernelspec": {
   "display_name": "Python 2",
   "language": "python",
   "name": "python2"
  },
  "language_info": {
   "codemirror_mode": {
    "name": "ipython",
    "version": 2
   },
   "file_extension": ".py",
   "mimetype": "text/x-python",
   "name": "python",
   "nbconvert_exporter": "python",
   "pygments_lexer": "ipython2",
   "version": "2.7.12"
  }
 },
 "nbformat": 4,
 "nbformat_minor": 0
}
